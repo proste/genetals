{
 "cells": [
  {
   "cell_type": "markdown",
   "metadata": {},
   "source": [
    "# Template for generic GA\n",
    "This notebook is intended to serve as a template/guide for implementing various GAs. Implement just the cells you need, use already implemented components from library whenever possible. Choose objective approach only if necessary - need to hold state, enable configurable behavior."
   ]
  },
  {
   "cell_type": "code",
   "execution_count": 1,
   "metadata": {},
   "outputs": [
    {
     "data": {
      "text/html": [
       "<style>.container { width:100% !important; }</style>"
      ],
      "text/plain": [
       "<IPython.core.display.HTML object>"
      ]
     },
     "metadata": {},
     "output_type": "display_data"
    }
   ],
   "source": [
    "import numpy as np\n",
    "import matplotlib.pyplot as plt\n",
    "\n",
    "from IPython.core.display import display, HTML\n",
    "from core import *\n",
    "\n",
    "# convenient jupyter notebook settings\n",
    "display(HTML(\"<style>.container { width:100% !important; }</style>\"))\n",
    "np.set_printoptions(linewidth=np.nan)"
   ]
  },
  {
   "cell_type": "markdown",
   "metadata": {},
   "source": [
    "Population initializer"
   ]
  },
  {
   "cell_type": "code",
   "execution_count": null,
   "metadata": {},
   "outputs": [],
   "source": [
    "def initializer(population_size: int, **kwargs) -> np.ndarray:\n",
    "    raise NotImplementedError\n",
    "    \n",
    "# class Initializer(InitializerBase):\n",
    "#     def __init__(self):\n",
    "#         super(Initializer, self).__init__()\n",
    "\n",
    "#     def __call__(self, population_size: int, **kwargs) -> np.ndarray:\n",
    "#         raise NotImplementedError"
   ]
  },
  {
   "cell_type": "markdown",
   "metadata": {},
   "source": [
    "Objective function"
   ]
  },
  {
   "cell_type": "code",
   "execution_count": null,
   "metadata": {},
   "outputs": [],
   "source": [
    "def objective_fnc(individuals: np.ndarray) -> np.ndarray:\n",
    "    raise NotImplementedError\n",
    "    \n",
    "# class ObjectiveFnc(ObjectiveFncBase):\n",
    "#     def __init__(self):\n",
    "#         super(ObjectiveFnc, self).__init__()\n",
    "        \n",
    "#     def __call__(self, individuals: np.ndarray) -> np.ndarray:\n",
    "#         raise NotImplementedError"
   ]
  },
  {
   "cell_type": "markdown",
   "metadata": {},
   "source": [
    "Fitness function"
   ]
  },
  {
   "cell_type": "code",
   "execution_count": null,
   "metadata": {},
   "outputs": [],
   "source": [
    "def fitness_fnc(individuals: np.ndarray, objectives: np.ndarray) -> np.ndarray:\n",
    "    raise NotImplementedError\n",
    "    \n",
    "# class FitnessFnc(FitnessFncBase):\n",
    "#     def __init__(self):\n",
    "#         super(FitnessFnc, self).__init__()\n",
    "    \n",
    "#     def __call__(self, individuals: np.ndarray, objectives: np.ndarray) -> np.ndarray:\n",
    "#         raise NotImplementedError"
   ]
  },
  {
   "cell_type": "markdown",
   "metadata": {},
   "source": [
    "Early stopping criterion"
   ]
  },
  {
   "cell_type": "code",
   "execution_count": null,
   "metadata": {},
   "outputs": [],
   "source": [
    "def early_stopping(ga: GeneticAlgorithm):\n",
    "    raise NotImplementedError\n",
    "\n",
    "# class EarlyStopping(EarlyStoppingBase):\n",
    "#     def __init__(self):\n",
    "#         super(EarlyStopping, self).__init__()\n",
    "        \n",
    "#     def __call__(self, ga: GeneticAlgorithm) -> bool:\n",
    "#         raise NotImplementedError"
   ]
  },
  {
   "cell_type": "markdown",
   "metadata": {},
   "source": [
    "Operators"
   ]
  },
  {
   "cell_type": "code",
   "execution_count": null,
   "metadata": {},
   "outputs": [],
   "source": [
    "class Operator(OperatorBase):\n",
    "    def __init__(self, *input_ops: OperatorBase):\n",
    "        super(Operator, self).__init__(input_ops)\n",
    "        \n",
    "    def _operation(self, ga: GeneticAlgorithm, *input_populations: Population) -> Population:\n",
    "        raise NotImplementedError"
   ]
  },
  {
   "cell_type": "markdown",
   "metadata": {},
   "source": [
    "Callbacks"
   ]
  },
  {
   "cell_type": "code",
   "execution_count": null,
   "metadata": {},
   "outputs": [],
   "source": [
    "def callback(ga: GeneticAlgorithm):\n",
    "    raise NotImplementedError\n",
    "\n",
    "# class Callback(CallbackBase):\n",
    "#     def __init__(self):\n",
    "#         super(Callback, self).__init__()\n",
    "    \n",
    "#     def __call__(self, ga: GeneticAlgorithm) -> None:\n",
    "#         raise NotImplementedError"
   ]
  },
  {
   "cell_type": "code",
   "execution_count": 3,
   "metadata": {},
   "outputs": [],
   "source": [
    "graph = OperatorGraph()\n",
    "\n",
    "selection = NotImplemented\n",
    "xover = NotImplemented\n",
    "mutation = NotImplemented\n",
    "\n",
    "ga = GeneticAlgorithm(\n",
    "    initializer = NotImplemented,\n",
    "    operator_graph = graph,\n",
    "    objective_fnc = NotImplemented,\n",
    "    fitness_fnc = NotImplemented,\n",
    "    early_stopping = NotImplemented,\n",
    "    callbacks = [NotImplemented]\n",
    ")"
   ]
  },
  {
   "cell_type": "code",
   "execution_count": 4,
   "metadata": {},
   "outputs": [
    {
     "ename": "TypeError",
     "evalue": "'NotImplementedType' object is not callable",
     "output_type": "error",
     "traceback": [
      "\u001b[0;31m---------------------------------------------------------------------------\u001b[0m",
      "\u001b[0;31mTypeError\u001b[0m                                 Traceback (most recent call last)",
      "\u001b[0;32m<ipython-input-4-944d305d7328>\u001b[0m in \u001b[0;36m<module>\u001b[0;34m()\u001b[0m\n\u001b[1;32m      1\u001b[0m ga.run(\n\u001b[1;32m      2\u001b[0m     \u001b[0mpopulation_size\u001b[0m \u001b[0;34m=\u001b[0m \u001b[0mNotImplemented\u001b[0m\u001b[0;34m,\u001b[0m\u001b[0;34m\u001b[0m\u001b[0m\n\u001b[0;32m----> 3\u001b[0;31m     \u001b[0mgeneration_cap\u001b[0m \u001b[0;34m=\u001b[0m \u001b[0mNotImplemented\u001b[0m\u001b[0;34m\u001b[0m\u001b[0m\n\u001b[0m\u001b[1;32m      4\u001b[0m )\n",
      "\u001b[0;32m~/mff/evgena/genetals/core.py\u001b[0m in \u001b[0;36mrun\u001b[0;34m(self, population_size, generation_cap, *args, **kwargs)\u001b[0m\n\u001b[1;32m    237\u001b[0m \u001b[0;34m\u001b[0m\u001b[0m\n\u001b[1;32m    238\u001b[0m         \u001b[0;31m# run initialization with optional params\u001b[0m\u001b[0;34m\u001b[0m\u001b[0;34m\u001b[0m\u001b[0m\n\u001b[0;32m--> 239\u001b[0;31m         \u001b[0minit_individuals\u001b[0m \u001b[0;34m=\u001b[0m \u001b[0mself\u001b[0m\u001b[0;34m.\u001b[0m\u001b[0m_initializer\u001b[0m\u001b[0;34m(\u001b[0m\u001b[0mself\u001b[0m\u001b[0;34m.\u001b[0m\u001b[0mpopulation_size\u001b[0m\u001b[0;34m,\u001b[0m \u001b[0;34m*\u001b[0m\u001b[0margs\u001b[0m\u001b[0;34m,\u001b[0m \u001b[0;34m**\u001b[0m\u001b[0mkwargs\u001b[0m\u001b[0;34m)\u001b[0m\u001b[0;34m\u001b[0m\u001b[0m\n\u001b[0m\u001b[1;32m    240\u001b[0m         \u001b[0minit_pop\u001b[0m \u001b[0;34m=\u001b[0m \u001b[0mPopulation\u001b[0m\u001b[0;34m(\u001b[0m\u001b[0minit_individuals\u001b[0m\u001b[0;34m,\u001b[0m \u001b[0mself\u001b[0m\u001b[0;34m)\u001b[0m\u001b[0;34m\u001b[0m\u001b[0m\n\u001b[1;32m    241\u001b[0m         \u001b[0mself\u001b[0m\u001b[0;34m.\u001b[0m\u001b[0m_captures\u001b[0m\u001b[0;34m[\u001b[0m\u001b[0;34m-\u001b[0m\u001b[0;36m1\u001b[0m\u001b[0;34m]\u001b[0m \u001b[0;34m=\u001b[0m \u001b[0minit_pop\u001b[0m\u001b[0;34m\u001b[0m\u001b[0m\n",
      "\u001b[0;31mTypeError\u001b[0m: 'NotImplementedType' object is not callable"
     ]
    }
   ],
   "source": [
    "result, fitnesses, objectives = ga.run(\n",
    "    population_size = NotImplemented,\n",
    "    generation_cap = NotImplemented\n",
    ")"
   ]
  },
  {
   "cell_type": "code",
   "execution_count": null,
   "metadata": {},
   "outputs": [],
   "source": []
  }
 ],
 "metadata": {
  "kernelspec": {
   "display_name": "Python 3",
   "language": "python",
   "name": "python3"
  },
  "language_info": {
   "codemirror_mode": {
    "name": "ipython",
    "version": 3
   },
   "file_extension": ".py",
   "mimetype": "text/x-python",
   "name": "python",
   "nbconvert_exporter": "python",
   "pygments_lexer": "ipython3",
   "version": "3.6.4"
  }
 },
 "nbformat": 4,
 "nbformat_minor": 2
}
