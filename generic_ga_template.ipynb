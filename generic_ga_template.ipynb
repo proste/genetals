{
 "cells": [
  {
   "cell_type": "markdown",
   "metadata": {},
   "source": [
    "# Template for generic GA\n",
    "This notebook is intended to serve as a template/guide for implementing various GAs. Implement just the cells you need, use already implemented components from library whenever possible. Choose objective approach only if necessary - need to hold state, enable configurable behavior."
   ]
  },
  {
   "cell_type": "code",
   "execution_count": null,
   "metadata": {},
   "outputs": [],
   "source": [
    "import numpy as np\n",
    "import matplotlib.pyplot as plt\n",
    "\n",
    "from core import *\n",
    "\n",
    "np.set_printoptions(linewidth=np.nan)"
   ]
  },
  {
   "cell_type": "markdown",
   "metadata": {},
   "source": [
    "Population initializer"
   ]
  },
  {
   "cell_type": "code",
   "execution_count": null,
   "metadata": {},
   "outputs": [],
   "source": [
    "def initializer(population_size: int, **kwargs) -> np.ndarray:\n",
    "    raise NotImplementedError\n",
    "    \n",
    "# class Initializer(InitializerBase):\n",
    "#     def __init__(self):\n",
    "#         super(Initializer, self).__init__()\n",
    "\n",
    "#     def __call__(self, population_size: int, **kwargs) -> np.ndarray:\n",
    "#         raise NotImplementedError"
   ]
  },
  {
   "cell_type": "markdown",
   "metadata": {},
   "source": [
    "Objective function"
   ]
  },
  {
   "cell_type": "code",
   "execution_count": null,
   "metadata": {},
   "outputs": [],
   "source": [
    "def objective_fnc(genes: np.ndarray) -> np.ndarray:\n",
    "    raise NotImplementedError\n",
    "    \n",
    "# class ObjectiveFnc(ObjectiveFncBase):\n",
    "#     def __init__(self):\n",
    "#         super(ObjectiveFnc, self).__init__()\n",
    "        \n",
    "#     def __call__(self, genes: np.ndarray) -> np.ndarray:\n",
    "#         raise NotImplementedError"
   ]
  },
  {
   "cell_type": "markdown",
   "metadata": {},
   "source": [
    "Fitness function"
   ]
  },
  {
   "cell_type": "code",
   "execution_count": null,
   "metadata": {},
   "outputs": [],
   "source": [
    "def fitness_fnc(genes: np.ndarray, objectives: np.ndarray) -> np.ndarray:\n",
    "    raise NotImplementedError\n",
    "    \n",
    "# class FitnessFnc(FitnessFncBase):\n",
    "#     def __init__(self):\n",
    "#         super(FitnessFnc, self).__init__()\n",
    "    \n",
    "#     def __call__(self, genes: np.ndarray, objectives: np.ndarray) -> np.ndarray:\n",
    "#         raise NotImplementedError"
   ]
  },
  {
   "cell_type": "markdown",
   "metadata": {},
   "source": [
    "Early stopping criterion"
   ]
  },
  {
   "cell_type": "code",
   "execution_count": null,
   "metadata": {},
   "outputs": [],
   "source": [
    "def early_stopping(ga: GeneticAlgorithm):\n",
    "    raise NotImplementedError\n",
    "\n",
    "# class EarlyStopping(EarlyStoppingBase):\n",
    "#     def __init__(self):\n",
    "#         super(EarlyStopping, self).__init__()\n",
    "        \n",
    "#     def __call__(self, ga: GeneticAlgorithm) -> bool:\n",
    "#         raise NotImplementedError"
   ]
  },
  {
   "cell_type": "markdown",
   "metadata": {},
   "source": [
    "Operators"
   ]
  },
  {
   "cell_type": "code",
   "execution_count": null,
   "metadata": {},
   "outputs": [],
   "source": [
    "class Operator(OperatorBase):\n",
    "    def __init__(self, *input_ops: OperatorBase):\n",
    "        super(Operator, self).__init__(input_ops)\n",
    "        \n",
    "    def _operation(self, ga: GeneticAlgorithm, *input_populations: Population) -> Population:\n",
    "        raise NotImplementedError"
   ]
  },
  {
   "cell_type": "markdown",
   "metadata": {},
   "source": [
    "Callbacks"
   ]
  },
  {
   "cell_type": "code",
   "execution_count": null,
   "metadata": {},
   "outputs": [],
   "source": [
    "def callback(ga: GeneticAlgorithm):\n",
    "    raise NotImplementedError\n",
    "\n",
    "# class Callback(CallbackBase):\n",
    "#     def __init__(self):\n",
    "#         super(Callback, self).__init__()\n",
    "    \n",
    "#     def __call__(self, ga: GeneticAlgorithm) -> None:\n",
    "#         raise NotImplementedError"
   ]
  },
  {
   "cell_type": "code",
   "execution_count": null,
   "metadata": {},
   "outputs": [],
   "source": [
    "graph = OperatorGraph()\n",
    "\n",
    "selection = NotImplemented\n",
    "xover = NotImplemented\n",
    "mutation = NotImplemented\n",
    "\n",
    "ga = GeneticAlgorithm(\n",
    "    initializer = NotImplemented,\n",
    "    operator_graph = graph,\n",
    "    objective_fnc = NotImplemented,\n",
    "    fitness_fnc = NotImplemented,\n",
    "    early_stopping = NotImplemented,\n",
    "    callbacks = [NotImplemented]\n",
    ")"
   ]
  },
  {
   "cell_type": "code",
   "execution_count": null,
   "metadata": {},
   "outputs": [],
   "source": [
    "result_pop, fitnesses, objectives = ga.run(\n",
    "    population_size = NotImplemented,\n",
    "    generation_cap = NotImplemented\n",
    ")"
   ]
  },
  {
   "cell_type": "code",
   "execution_count": null,
   "metadata": {},
   "outputs": [],
   "source": []
  }
 ],
 "metadata": {
  "kernelspec": {
   "display_name": "Python 3",
   "language": "python",
   "name": "python3"
  },
  "language_info": {
   "codemirror_mode": {
    "name": "ipython",
    "version": 3
   },
   "file_extension": ".py",
   "mimetype": "text/x-python",
   "name": "python",
   "nbconvert_exporter": "python",
   "pygments_lexer": "ipython3",
   "version": "3.6.5"
  }
 },
 "nbformat": 4,
 "nbformat_minor": 2
}
