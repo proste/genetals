{
 "cells": [
  {
   "cell_type": "markdown",
   "metadata": {},
   "source": [
    "# SGA\n",
    "This notebook demonstrates basic workflow on implementation of Simple Genetic Algorithm"
   ]
  },
  {
   "cell_type": "code",
   "execution_count": null,
   "metadata": {},
   "outputs": [],
   "source": [
    "import numpy as np\n",
    "import matplotlib.pyplot as plt\n",
    "\n",
    "from core import *\n",
    "\n",
    "np.set_printoptions(linewidth=np.nan)"
   ]
  },
  {
   "cell_type": "markdown",
   "metadata": {},
   "source": [
    "Random initialization of bit strings of given length"
   ]
  },
  {
   "cell_type": "code",
   "execution_count": null,
   "metadata": {},
   "outputs": [],
   "source": [
    "def bit_initializer(population_size: int, individual_length: int) -> np.ndarray:\n",
    "    return np.random.rand(population_size, individual_length) < 0.5\n",
    "    \n",
    "# class Initializer(InitializerBase):\n",
    "#     def __init__(self):\n",
    "#         super(Initializer, self).__init__()\n",
    "\n",
    "#     def __call__(self, population_size: int, **kwargs) -> np.ndarray:\n",
    "#         raise NotImplementedError"
   ]
  },
  {
   "cell_type": "markdown",
   "metadata": {},
   "source": [
    "Objective function"
   ]
  },
  {
   "cell_type": "code",
   "execution_count": null,
   "metadata": {},
   "outputs": [],
   "source": [
    "def objective_fnc(genes: np.ndarray) -> np.ndarray:\n",
    "    return genes.sum(-1)\n",
    "    \n",
    "# class ObjectiveFnc(ObjectiveFncBase):\n",
    "#     def __init__(self):\n",
    "#         super(ObjectiveFnc, self).__init__()\n",
    "        \n",
    "#     def __call__(self, individuals: np.ndarray) -> np.ndarray:\n",
    "#         raise NotImplementedError"
   ]
  },
  {
   "cell_type": "markdown",
   "metadata": {},
   "source": [
    "Fitness function"
   ]
  },
  {
   "cell_type": "code",
   "execution_count": null,
   "metadata": {},
   "outputs": [],
   "source": [
    "# def fitness_fnc(individuals: np.ndarray, objectives: np.ndarray) -> np.ndarray:\n",
    "#     raise NotImplementedError\n",
    "    \n",
    "# class FitnessFnc(FitnessFncBase):\n",
    "#     def __init__(self):\n",
    "#         super(FitnessFnc, self).__init__()\n",
    "    \n",
    "#     def __call__(self, individuals: np.ndarray, objectives: np.ndarray) -> np.ndarray:\n",
    "#         raise NotImplementedError"
   ]
  },
  {
   "cell_type": "markdown",
   "metadata": {},
   "source": [
    "Early stopping criterion"
   ]
  },
  {
   "cell_type": "code",
   "execution_count": null,
   "metadata": {},
   "outputs": [],
   "source": [
    "def early_stopping(ga: GeneticAlgorithm):\n",
    "    raise NotImplementedError\n",
    "\n",
    "# class EarlyStopping(EarlyStoppingBase):\n",
    "#     def __init__(self):\n",
    "#         super(EarlyStopping, self).__init__()\n",
    "        \n",
    "#     def __call__(self, ga: GeneticAlgorithm) -> bool:\n",
    "#         raise NotImplementedError"
   ]
  },
  {
   "cell_type": "markdown",
   "metadata": {},
   "source": [
    "SGA operators as designed by Holland"
   ]
  },
  {
   "cell_type": "code",
   "execution_count": null,
   "metadata": {},
   "outputs": [],
   "source": [
    "class RouletteWheelSelection(OperatorBase):\n",
    "    def __init__(self, whole_op: OperatorBase):\n",
    "        super(RouletteWheelSelection, self).__init__(whole_op)\n",
    "        \n",
    "    def _operation(self, ga: GeneticAlgorithm, whole: Population) -> Population:\n",
    "        chosen_index = np.random.choice(whole.size, size=whole.size, p=(whole.fitnesses / whole.fitnesses.sum()))\n",
    "        \n",
    "        return Population(whole.genes[chosen_index], ga)"
   ]
  },
  {
   "cell_type": "code",
   "execution_count": null,
   "metadata": {},
   "outputs": [],
   "source": [
    "class OnePointXover(OperatorBase):\n",
    "    def __init__(self, parents_op: OperatorBase, prob: float = 0.7):\n",
    "        super(OnePointXover, self).__init__(parents_op)\n",
    "        \n",
    "        self.prob = prob\n",
    "        \n",
    "    def _operation(self, ga: GeneticAlgorithm, parents: Population) -> Population:\n",
    "        xover_index = np.arange(0, parents.size, 2)[np.random.rand(parents.size // 2) < self.prob]\n",
    "        xover_edges = (np.random.rand(len(xover_index)) * parents.genes.shape[1]).astype(np.int)\n",
    "        \n",
    "        offspring_genes = parents.genes.copy()\n",
    "        for x_i in range(len(xover_index)):\n",
    "            p1_i , p2_i = xover_index[x_i], xover_index[x_i] + 1\n",
    "            xover_edge = xover_edges[x_i]\n",
    "            \n",
    "            offspring_genes[p1_i, xover_edge:] = parents.genes[p2_i, xover_edge:]\n",
    "            offspring_genes[p2_i, xover_edge:] = parents.genes[p1_i, xover_edge:]\n",
    "        \n",
    "        return Population(offspring_genes, ga)"
   ]
  },
  {
   "cell_type": "code",
   "execution_count": null,
   "metadata": {},
   "outputs": [],
   "source": [
    "class BitFlipMutation(OperatorBase):\n",
    "    def __init__(self, naturals_op: OperatorBase, individual_prob: float = 0.05, gene_prob: float = 0.05):\n",
    "        super(BitFlipMutation, self).__init__(naturals_op)\n",
    "        \n",
    "        self.individual_prob = individual_prob\n",
    "        self.gene_prob = gene_prob\n",
    "        \n",
    "    def _operation(self, ga: GeneticAlgorithm, naturals: Population) -> Population:\n",
    "        mutation_index = np.arange(naturals.size)[np.random.rand(naturals.size) < self.individual_prob]\n",
    "        mutation_mask = np.random.rand(len(mutation_index), naturals.genes.shape[1]) < self.gene_prob\n",
    "        \n",
    "        mutants_genes = naturals.genes.copy()\n",
    "        for m_i in range(len(mutation_index)):\n",
    "            i_i = mutation_index[m_i]\n",
    "        \n",
    "            mutants_genes[i_i, mutation_mask[m_i]] = ~naturals.genes[i_i, mutation_mask[m_i]]\n",
    "        \n",
    "        return Population(mutants_genes, ga)"
   ]
  },
  {
   "cell_type": "markdown",
   "metadata": {},
   "source": [
    "Callbacks for visual population tracking, fitness tracking"
   ]
  },
  {
   "cell_type": "code",
   "execution_count": null,
   "metadata": {},
   "outputs": [],
   "source": [
    "class PopulationVisualReport(CallbackBase):\n",
    "    def __init__(self, ax: plt.Axes):\n",
    "        super(PopulationVisualReport, self).__init__()\n",
    "        \n",
    "        self._ax = ax\n",
    "        \n",
    "    def __call__(self, ga: GeneticAlgorithm) -> None:\n",
    "        self._ax.clear()\n",
    "        self._ax.axis('off')\n",
    "        self._ax.imshow(np.swapaxes(ga.capture(-1).genes, 0, 1))\n",
    "\n",
    "class ObjectiveReport(CallbackBase):\n",
    "    def __init__(self, ax: plt.Axes):\n",
    "        super(ObjectiveReport, self).__init__()\n",
    "        \n",
    "        self._ax = ax\n",
    "    \n",
    "    def __call__(self, ga: GeneticAlgorithm) -> None:\n",
    "        self._ax.clear()\n",
    "        self._ax.plot(np.max(ga.objectives_history, axis=-1))\n",
    "        self._ax.set_title(\n",
    "            'Current best fitness: {:.6f}'.format(np.max(ga.objectives_history[-1]))\n",
    "        )\n",
    "        \n",
    "class GAStatus(CallbackBase):\n",
    "    def __init__(self, fig: plt.Figure):\n",
    "        super(GAStatus, self).__init__()\n",
    "\n",
    "        self._fig = fig\n",
    "\n",
    "    def __call__(self, ga: GeneticAlgorithm) -> None:\n",
    "        self._fig.canvas.set_window_title('Current generation: {}'.format(ga.current_generation))\n",
    "        self._fig.canvas.draw()"
   ]
  },
  {
   "cell_type": "code",
   "execution_count": null,
   "metadata": {},
   "outputs": [],
   "source": [
    "%matplotlib ipympl\n",
    "\n",
    "fig, ax = plt.subplots(2, 1, figsize=(8,7))\n",
    "fig.tight_layout()\n",
    "\n",
    "pop_report = PopulationVisualReport(ax[0])\n",
    "obj_report = ObjectiveReport(ax[1])\n",
    "ga_status = GAStatus(fig)"
   ]
  },
  {
   "cell_type": "code",
   "execution_count": null,
   "metadata": {},
   "outputs": [],
   "source": [
    "graph = OperatorGraph()\n",
    "\n",
    "selection = RouletteWheelSelection(graph.init_op)\n",
    "xover = OnePointXover(selection)\n",
    "mutation = BitFlipMutation(xover)\n",
    "\n",
    "ga = GeneticAlgorithm(\n",
    "    initializer = bit_initializer,\n",
    "    operator_graph = graph,\n",
    "    objective_fnc = objective_fnc,\n",
    "    fitness_fnc = None,\n",
    "    callbacks = [ga_status, pop_report, obj_report]\n",
    ")"
   ]
  },
  {
   "cell_type": "code",
   "execution_count": null,
   "metadata": {},
   "outputs": [],
   "source": [
    "result, fitnesses, objectives = ga.run(\n",
    "    population_size = 128,\n",
    "    generation_cap = 64,\n",
    "    individual_length = 32\n",
    ")"
   ]
  },
  {
   "cell_type": "code",
   "execution_count": null,
   "metadata": {},
   "outputs": [],
   "source": []
  }
 ],
 "metadata": {
  "kernelspec": {
   "display_name": "Python 3",
   "language": "python",
   "name": "python3"
  },
  "language_info": {
   "codemirror_mode": {
    "name": "ipython",
    "version": 3
   },
   "file_extension": ".py",
   "mimetype": "text/x-python",
   "name": "python",
   "nbconvert_exporter": "python",
   "pygments_lexer": "ipython3",
   "version": "3.6.5"
  }
 },
 "nbformat": 4,
 "nbformat_minor": 2
}
